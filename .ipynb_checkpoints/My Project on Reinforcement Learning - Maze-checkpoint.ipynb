{
 "cells": [
  {
   "cell_type": "markdown",
   "id": "1c31a606",
   "metadata": {},
   "source": [
    "# Maze Environment Project\n",
    "This project simulates a maze environment where an agent navigates through different states based on defined actions. The environment includes specific elements such as goals, brick walls, and fire:\n",
    "\n",
    "> 3: Goal state (represented by a diamond), which gives a reward of +10.\n",
    "\n",
    "> 5: Brick wall, where movement is not possible.\n",
    "\n",
    "> 7: Fire state, which incurs a penalty of -10.\n",
    "\n",
    "The agent can move in four directions: left, right, up, and down, with state transitions and rewards modeled accordingly. The objective is to navigate the maze efficiently while maximizing rewards and avoiding penalties."
   ]
  },
  {
   "cell_type": "markdown",
   "id": "0d4f255b",
   "metadata": {},
   "source": [
    "# Import Library"
   ]
  },
  {
   "cell_type": "code",
   "execution_count": 1,
   "id": "4f42f71a",
   "metadata": {},
   "outputs": [
    {
     "name": "stderr",
     "output_type": "stream",
     "text": [
      "C:\\ProgramData\\Anaconda3\\lib\\site-packages\\scipy\\__init__.py:155: UserWarning: A NumPy version >=1.18.5 and <1.25.0 is required for this version of SciPy (detected version 1.26.0\n",
      "  warnings.warn(f\"A NumPy version >={np_minversion} and <{np_maxversion}\"\n"
     ]
    },
    {
     "name": "stdout",
     "output_type": "stream",
     "text": [
      "numpy version: 1.26.0\n"
     ]
    }
   ],
   "source": [
    "import numpy as np\n",
    "import random\n",
    "import matplotlib.pyplot as plt\n",
    "import seaborn as sns\n",
    "\n",
    "print('numpy version:',np.__version__)"
   ]
  },
  {
   "cell_type": "markdown",
   "id": "08b3bc80",
   "metadata": {},
   "source": [
    "## State Transition Matrix Initialization:"
   ]
  },
  {
   "cell_type": "code",
   "execution_count": 2,
   "id": "98765625",
   "metadata": {},
   "outputs": [],
   "source": [
    "import numpy as np\n",
    "\n",
    "# Initialize state transition probabilities with -1 as default value\n",
    "state_transition_probability = np.zeros((12, 4, 3), dtype=int) - 1\n"
   ]
  },
  {
   "cell_type": "markdown",
   "id": "eb186eb1",
   "metadata": {},
   "source": [
    "## Rewards Definition:"
   ]
  },
  {
   "cell_type": "code",
   "execution_count": 3,
   "id": "31153c98",
   "metadata": {},
   "outputs": [],
   "source": [
    "diamond = 10\n",
    "fire = -10\n"
   ]
  },
  {
   "cell_type": "markdown",
   "id": "6d916a66",
   "metadata": {},
   "source": [
    "## Actions Definition:"
   ]
  },
  {
   "cell_type": "code",
   "execution_count": 4,
   "id": "bf9f4f99",
   "metadata": {},
   "outputs": [],
   "source": [
    "# Actions: 0 - left, 1 - right, 2 - up, 3 - down\n"
   ]
  },
  {
   "cell_type": "markdown",
   "id": "a5b1ffb6",
   "metadata": {},
   "source": [
    "## State Transitions and Rewards Calculation:"
   ]
  },
  {
   "cell_type": "code",
   "execution_count": 5,
   "id": "c68aa5a7",
   "metadata": {},
   "outputs": [],
   "source": [
    "for state in range(12):\n",
    "    for action in range(4):\n",
    "        # Default: stay in the same state\n",
    "        state_transition_probability[state, :, 2] = state\n",
    "\n",
    "        if action == 0:  # Left\n",
    "            if state in [0, 4, 6, 8, 3, 7, 5]:\n",
    "                state_transition_probability[state, action, 0] = state\n",
    "            elif state in [1, 2, 9, 10, 11]:\n",
    "                state_transition_probability[state, action, 0] = state - 1\n",
    "\n",
    "        elif action == 1:  # Right\n",
    "            if state in [0, 1, 2, 8, 9, 10, 6]:\n",
    "                state_transition_probability[state, action, 0] = state + 1\n",
    "            elif state in [3, 4, 11, 7, 5]:\n",
    "                state_transition_probability[state, action, 0] = state\n",
    "            if state == 2:\n",
    "                state_transition_probability[state, action, 1] = diamond\n",
    "            elif state == 6:\n",
    "                state_transition_probability[state, action, 1] = fire\n",
    "\n",
    "        elif action == 2:  # Up\n",
    "            if state in [0, 1, 2, 3, 5, 7, 9]:\n",
    "                state_transition_probability[state, action, 0] = state\n",
    "            elif state in [4, 6, 8, 10, 11]:\n",
    "                state_transition_probability[state, action, 0] = state - 4\n",
    "            if state == 11:\n",
    "                state_transition_probability[state, action, 1] = fire\n",
    "\n",
    "        else:  # Down\n",
    "            if state in [0, 2, 4, 6]:\n",
    "                state_transition_probability[state, action, 0] = state + 4\n",
    "            elif state in [1, 3, 5, 7, 8, 9, 10, 11]:\n",
    "                state_transition_probability[state, action, 0] = state\n"
   ]
  },
  {
   "cell_type": "code",
   "execution_count": 6,
   "id": "d11f1998",
   "metadata": {},
   "outputs": [],
   "source": [
    "# Add this to ensure the array is properly set to avoid index errors\n",
    "for state in range(12):\n",
    "    for action in range(4):\n",
    "        # Ensure the reward and next state are set correctly\n",
    "        if state_transition_probability[state, action, 1] == -1:\n",
    "            state_transition_probability[state, action, 1] = 0\n"
   ]
  },
  {
   "cell_type": "markdown",
   "id": "6fc9108e",
   "metadata": {},
   "source": [
    "# Policy Evaluation and Policy Improvement"
   ]
  },
  {
   "cell_type": "code",
   "execution_count": 7,
   "id": "f16b85cf",
   "metadata": {},
   "outputs": [],
   "source": [
    "def policy_evaluation(gamma,theta,Value_function,policy,state_transition_probability,value_range=(-1e3, 1e3)):\n",
    "    \n",
    "    while True:\n",
    "        delta = 0\n",
    "        for state,_ in enumerate(state_transition_probability):\n",
    "            v= V[state]\n",
    "            if state==3 or state==7 or state==5:\n",
    "                continue\n",
    "            else:\n",
    "                \n",
    "                new_value=sum([\n",
    "                    policy[state,action]*(new_state[1]+gamma*V[(new_state[0])]) for action, new_state in enumerate(state_transition_probability[state])\n",
    "                ])\n",
    "            # Clip the new value to avoid overflow\n",
    "            new_value = np.clip(new_value, *value_range)\n",
    "            V[state] =new_value\n",
    "            delta=max(delta,abs(v-V[state]))\n",
    "        if delta < theta:\n",
    "            break\n",
    "    \n",
    "    return V\n",
    "\n",
    "def policy_improvement(policy,gamma, value_function, state_transition_probability,num_states=12):\n",
    "    policy_stable = True\n",
    "    \n",
    "    for state in range(num_states):\n",
    "        \n",
    "            \n",
    "        old_action = np.argmax(policy[state])\n",
    "        \n",
    "        if state==3 or state==7 or state==5:\n",
    "            continue\n",
    "        else:\n",
    "            \n",
    "\n",
    "            best_value = np.argmax([\n",
    "                policy[state,action]*(new_state[1]+ gamma*V[(new_state[0])])\n",
    "                for action, new_state in enumerate(state_transition_probability[state])\n",
    "            ])\n",
    "            \n",
    "        new_policy = np.zeros_like(policy[state])\n",
    "        new_policy[best_value]=1\n",
    "        policy[state] = new_policy\n",
    "        #policy[state][best_value]=1\n",
    "\n",
    "        if old_action != best_value:\n",
    "            policy_stable = False\n",
    "  \n",
    "    return policy, policy_stable\n",
    "\n",
    "\n",
    "\n"
   ]
  },
  {
   "cell_type": "markdown",
   "id": "e9e9b023",
   "metadata": {},
   "source": [
    "# Initialize all the Parameters"
   ]
  },
  {
   "cell_type": "code",
   "execution_count": 8,
   "id": "cca44255",
   "metadata": {},
   "outputs": [],
   "source": [
    "num_states = 12\n",
    "num_actions=4\n",
    "gamma = 0.9\n",
    "theta = 0.01\n",
    "state_transition_probability\n",
    "V = np.random.randn(12)*5\n",
    "V[3]=0\n",
    "V[5]=np.nan\n",
    "V[7]=0\n",
    "policy = np.ones((num_states,num_actions))/num_actions\n",
    "policy[3]=policy[5]=policy[7]=0"
   ]
  },
  {
   "cell_type": "code",
   "execution_count": 9,
   "id": "e20ebcaa",
   "metadata": {},
   "outputs": [
    {
     "name": "stdout",
     "output_type": "stream",
     "text": [
      "optimal policy is:  \n",
      " [[0. 1. 0. 0.]\n",
      " [0. 1. 0. 0.]\n",
      " [0. 1. 0. 0.]\n",
      " [0. 0. 0. 0.]\n",
      " [0. 0. 1. 0.]\n",
      " [0. 0. 0. 0.]\n",
      " [0. 0. 1. 0.]\n",
      " [0. 0. 0. 0.]\n",
      " [0. 0. 1. 0.]\n",
      " [1. 0. 0. 0.]\n",
      " [1. 0. 0. 0.]\n",
      " [1. 0. 0. 0.]]\n",
      "\n",
      "\n",
      "optimal action value is:  \n",
      " [ 8.1       9.       10.        0.        7.29           nan  9.\n",
      "  0.        6.561     5.9049    5.31441   4.782969]\n",
      "\n",
      "\n",
      "stability: True\n"
     ]
    }
   ],
   "source": [
    "policy_stable=False\n",
    "i = 0\n",
    "while not policy_stable:\n",
    "    i+=1\n",
    "    V = policy_evaluation(gamma,theta,V,policy,state_transition_probability)\n",
    "    policy, policy_stable = policy_improvement(policy,gamma, V, state_transition_probability)\n",
    "\n",
    "print('optimal policy is: ','\\n', policy)\n",
    "print('\\n')\n",
    "print('optimal action value is: ','\\n', V)\n",
    "print('\\n')\n",
    "print('stability:', policy_stable)"
   ]
  },
  {
   "cell_type": "code",
   "execution_count": 10,
   "id": "31d7cd38",
   "metadata": {},
   "outputs": [
    {
     "data": {
      "image/png": "[encoded data removed]",
      "text/plain": [
       "<Figure size 640x480 with 1 Axes>"
      ]
     },
     "metadata": {},
     "output_type": "display_data"
    }
   ],
   "source": [
    "sns.heatmap(V.reshape(3,4), annot=True, lw=.9,fmt='.2f',xticklabels='',yticklabels='',cbar=None);"
   ]
  },
  {
   "cell_type": "code",
   "execution_count": null,
   "id": "b49417d5",
   "metadata": {},
   "outputs": [],
   "source": []
  },
  {
   "cell_type": "code",
   "execution_count": null,
   "id": "a0406979",
   "metadata": {},
   "outputs": [],
   "source": []
  },
  {
   "cell_type": "code",
   "execution_count": null,
   "id": "2938c1b8",
   "metadata": {},
   "outputs": [],
   "source": []
  },
  {
   "cell_type": "code",
   "execution_count": null,
   "id": "11fd9d8c",
   "metadata": {},
   "outputs": [],
   "source": []
  }
 ],
 "metadata": {
  "kernelspec": {
   "display_name": "Python 3 (ipykernel)",
   "language": "python",
   "name": "python3"
  },
  "language_info": {
   "codemirror_mode": {
    "name": "ipython",
    "version": 3
   },
   "file_extension": ".py",
   "mimetype": "text/x-python",
   "name": "python",
   "nbconvert_exporter": "python",
   "pygments_lexer": "ipython3",
   "version": "3.9.13"
  }
 },
 "nbformat": 4,
 "nbformat_minor": 5
}
